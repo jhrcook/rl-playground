{
 "cells": [
  {
   "cell_type": "markdown",
   "metadata": {},
   "source": [
    "# The Cart-Pole Game\n",
    "\n",
    "tutorial: https://github.com/tensorflow/agents/blob/master/docs/tutorials/1_dqn_tutorial.ipynb"
   ]
  },
  {
   "cell_type": "markdown",
   "metadata": {},
   "source": [
    "## Setup"
   ]
  },
  {
   "cell_type": "code",
   "execution_count": 50,
   "metadata": {},
   "outputs": [],
   "source": [
    "import io\n",
    "import base64\n",
    "import imageio\n",
    "from pathlib import Path\n",
    "import IPython\n",
    "from IPython.display import HTML\n",
    "import matplotlib\n",
    "import matplotlib.pyplot as plt\n",
    "import seaborn as sns\n",
    "import numpy as np\n",
    "import PIL.Image\n",
    "import pyvirtualdisplay\n",
    "\n",
    "import gym\n",
    "from gym import wrappers\n",
    "\n",
    "import tensorflow as tf\n",
    "from tensorflow import keras\n",
    "\n",
    "from tf_agents.policies import policy_saver\n",
    "from tf_agents.agents.dqn import dqn_agent\n",
    "from tf_agents.drivers import dynamic_step_driver\n",
    "from tf_agents.environments import suite_gym\n",
    "from tf_agents.environments import tf_py_environment\n",
    "from tf_agents.eval import metric_utils\n",
    "from tf_agents.metrics import tf_metrics\n",
    "from tf_agents.networks import q_network\n",
    "from tf_agents.policies import random_tf_policy\n",
    "from tf_agents.replay_buffers import tf_uniform_replay_buffer\n",
    "from tf_agents.trajectories import trajectory\n",
    "from tf_agents.utils import common "
   ]
  },
  {
   "cell_type": "markdown",
   "metadata": {},
   "source": [
    "## Hyperparameters"
   ]
  },
  {
   "cell_type": "code",
   "execution_count": 12,
   "metadata": {},
   "outputs": [],
   "source": [
    "num_iterations = 20000\n",
    "\n",
    "initial_collect_steps = 1000\n",
    "collect_steps_per_iteration = 1\n",
    "replay_buffer_max_length = 100000\n",
    "\n",
    "batch_size = 64\n",
    "learning_rate = 1e-3\n",
    "log_interval = 200\n",
    "\n",
    "num_eval_episodes = 10\n",
    "eval_interval = 1000"
   ]
  },
  {
   "cell_type": "markdown",
   "metadata": {},
   "source": [
    "## Environment\n",
    "\n",
    "We will use the \"CartPole-v0\" from OpenAI Gym.\n",
    "The observation returned on each time step is an array of 4 floats:\n",
    "\n",
    "* positon of the cart\n",
    "* velocity of the cart\n",
    "* angular positon of the pole\n",
    "* angular velocity of the pole\n",
    "\n",
    "The reward returned on each time step is a scalar float value 1.0.\n",
    "The possible actions are:\n",
    "\n",
    "* 0: move left\n",
    "* 1: move right\n",
    "\n",
    "We created two environments, one for training and one for evaluation.\n",
    "Each was then converted to TensorFlow using the `TFPYEnvironment` wrapper."
   ]
  },
  {
   "cell_type": "code",
   "execution_count": 13,
   "metadata": {},
   "outputs": [
    {
     "data": {
      "text/plain": [
       "TimeStep(step_type=array(0, dtype=int32), reward=array(0., dtype=float32), discount=array(1., dtype=float32), observation=array([-0.00990847, -0.00630348, -0.0157035 , -0.00908371], dtype=float32))"
      ]
     },
     "execution_count": 13,
     "metadata": {},
     "output_type": "execute_result"
    }
   ],
   "source": [
    "env_name = 'CartPole-v0'\n",
    "env = suite_gym.load(env_name)\n",
    "\n",
    "env.reset()"
   ]
  },
  {
   "cell_type": "code",
   "execution_count": 14,
   "metadata": {},
   "outputs": [
    {
     "data": {
      "text/plain": [
       "BoundedArraySpec(shape=(4,), dtype=dtype('float32'), name='observation', minimum=[-4.8000002e+00 -3.4028235e+38 -4.1887903e-01 -3.4028235e+38], maximum=[4.8000002e+00 3.4028235e+38 4.1887903e-01 3.4028235e+38])"
      ]
     },
     "execution_count": 14,
     "metadata": {},
     "output_type": "execute_result"
    }
   ],
   "source": [
    "env.time_step_spec().observation"
   ]
  },
  {
   "cell_type": "code",
   "execution_count": 15,
   "metadata": {},
   "outputs": [
    {
     "data": {
      "text/plain": [
       "ArraySpec(shape=(), dtype=dtype('float32'), name='reward')"
      ]
     },
     "execution_count": 15,
     "metadata": {},
     "output_type": "execute_result"
    }
   ],
   "source": [
    "env.time_step_spec().reward"
   ]
  },
  {
   "cell_type": "code",
   "execution_count": 16,
   "metadata": {},
   "outputs": [
    {
     "data": {
      "text/plain": [
       "BoundedArraySpec(shape=(), dtype=dtype('int64'), name='action', minimum=0, maximum=1)"
      ]
     },
     "execution_count": 16,
     "metadata": {},
     "output_type": "execute_result"
    }
   ],
   "source": [
    "env.action_spec()"
   ]
  },
  {
   "cell_type": "code",
   "execution_count": 17,
   "metadata": {},
   "outputs": [],
   "source": [
    "env.close()"
   ]
  },
  {
   "cell_type": "code",
   "execution_count": 18,
   "metadata": {},
   "outputs": [],
   "source": [
    "train_py_env = suite_gym.load(env_name)\n",
    "eval_py_env = suite_gym.load(env_name)\n",
    "\n",
    "train_env = tf_py_environment.TFPyEnvironment(train_py_env)\n",
    "eval_env = tf_py_environment.TFPyEnvironment(eval_py_env)"
   ]
  },
  {
   "cell_type": "markdown",
   "metadata": {},
   "source": [
    "## Agent\n",
    "\n",
    "We will use a Deep Q-Network for this tutorial.\n",
    "We start by creating the Q-Netowrk with 1 hidden layer with 100 neurons for this tutorial."
   ]
  },
  {
   "cell_type": "code",
   "execution_count": 19,
   "metadata": {},
   "outputs": [],
   "source": [
    "fc_layer_params = (100, )\n",
    "\n",
    "q_net = q_network.QNetwork(\n",
    "    train_env.observation_spec(),\n",
    "    train_env.action_spec(),\n",
    "    fc_layer_params=fc_layer_params\n",
    ")"
   ]
  },
  {
   "cell_type": "markdown",
   "metadata": {},
   "source": [
    "Then we can instantiate the DQN Agent."
   ]
  },
  {
   "cell_type": "code",
   "execution_count": 20,
   "metadata": {},
   "outputs": [],
   "source": [
    "optimizer = keras.optimizers.Adam(learning_rate=learning_rate)\n",
    "\n",
    "train_step_counter = tf.Variable(0)\n",
    "\n",
    "agent = dqn_agent.DqnAgent(\n",
    "    train_env.time_step_spec(),\n",
    "    train_env.action_spec(),\n",
    "    q_network=q_net,\n",
    "    optimizer=optimizer,\n",
    "    td_errors_loss_fn=common.element_wise_squared_loss,\n",
    "    train_step_counter=train_step_counter\n",
    ")\n",
    "\n",
    "agent.initialize()"
   ]
  },
  {
   "cell_type": "markdown",
   "metadata": {},
   "source": [
    "## Policies\n",
    "\n",
    "The policy defines the way the agent acts in an environment.\n",
    "Agents contain two policies:\n",
    "\n",
    "1. `agent.policy`: The main policy that is used for evaluation and deployment.\n",
    "2. `agent.collect_policy`: A second policy for data collection."
   ]
  },
  {
   "cell_type": "code",
   "execution_count": 21,
   "metadata": {},
   "outputs": [],
   "source": [
    "eval_policy = agent.policy\n",
    "collect_policy = agent.collect_policy"
   ]
  },
  {
   "cell_type": "markdown",
   "metadata": {},
   "source": [
    "Policies can also be made from the `tf_agents.policies` module.\n",
    "We will create another policy that randomly selects an action."
   ]
  },
  {
   "cell_type": "code",
   "execution_count": 22,
   "metadata": {},
   "outputs": [],
   "source": [
    "random_policy = random_tf_policy.RandomTFPolicy(train_env.time_step_spec(),\n",
    "                                                train_env.action_spec())"
   ]
  },
  {
   "cell_type": "markdown",
   "metadata": {},
   "source": [
    "A policy returns an action when a `time_step` is passed to its `action()` method, where the `time_step` is an observation from the environment.\n",
    "The `action()` method actually returns a tuple with three components: the action, the state (for stateful policies such as RNN-based policies), and auxilliary information (such as log probabilities of actions)."
   ]
  },
  {
   "cell_type": "code",
   "execution_count": 23,
   "metadata": {},
   "outputs": [
    {
     "data": {
      "text/plain": [
       "TimeStep(step_type=<tf.Tensor: shape=(1,), dtype=int32, numpy=array([0], dtype=int32)>, reward=<tf.Tensor: shape=(1,), dtype=float32, numpy=array([0.], dtype=float32)>, discount=<tf.Tensor: shape=(1,), dtype=float32, numpy=array([1.], dtype=float32)>, observation=<tf.Tensor: shape=(1, 4), dtype=float32, numpy=\n",
       "array([[ 0.0133165 ,  0.0167583 , -0.00924084,  0.01246492]],\n",
       "      dtype=float32)>)"
      ]
     },
     "execution_count": 23,
     "metadata": {},
     "output_type": "execute_result"
    }
   ],
   "source": [
    "example_env = tf_py_environment.TFPyEnvironment(suite_gym.load(env_name))\n",
    "time_step = example_env.reset()\n",
    "time_step"
   ]
  },
  {
   "cell_type": "code",
   "execution_count": 24,
   "metadata": {},
   "outputs": [
    {
     "data": {
      "text/plain": [
       "PolicyStep(action=<tf.Tensor: shape=(1,), dtype=int64, numpy=array([0])>, state=(), info=())"
      ]
     },
     "execution_count": 24,
     "metadata": {},
     "output_type": "execute_result"
    }
   ],
   "source": [
    "random_policy.action(time_step)"
   ]
  },
  {
   "cell_type": "markdown",
   "metadata": {},
   "source": [
    "## Metrics and evaluation\n",
    "\n",
    "The most common metric used to evaluate a policy is the average return where the return is the sum of rewards for an episone.\n",
    "The `compute_avg_return()` function does just that for some `num_episodes` given an environment and a policy."
   ]
  },
  {
   "cell_type": "code",
   "execution_count": 25,
   "metadata": {},
   "outputs": [],
   "source": [
    "def compute_avg_return(environment, policy, num_episodes=10):\n",
    "    total_return = 0.0\n",
    "    \n",
    "    for _ in range(num_episodes):\n",
    "        \n",
    "        time_step = environment.reset()\n",
    "        episode_return = 0.0\n",
    "        \n",
    "        while not time_step.is_last():\n",
    "            action_step = policy.action(time_step)\n",
    "            time_step = environment.step(action_step.action)\n",
    "            episode_return += time_step.reward\n",
    "        total_return += episode_return\n",
    "    \n",
    "    avg_return = total_return / num_episodes\n",
    "    return avg_return.numpy()[0]"
   ]
  },
  {
   "cell_type": "code",
   "execution_count": 26,
   "metadata": {},
   "outputs": [
    {
     "data": {
      "text/plain": [
       "21.1"
      ]
     },
     "execution_count": 26,
     "metadata": {},
     "output_type": "execute_result"
    }
   ],
   "source": [
    "compute_avg_return(eval_env, random_policy, num_eval_episodes)"
   ]
  },
  {
   "cell_type": "markdown",
   "metadata": {},
   "source": [
    "## Replay bufffer\n",
    "\n",
    "The replay buffer keeps track of data collected from the environment.\n",
    "This tutorial uses a `tf_agents.replay_buffers.tf_uniform_replay_buffer.TFUniformReplayBuffer`, the most common choice.\n",
    "\n",
    "The constructor requires the specifications for the data it will be collecting which is available in the agent as the `collect_data_spec` attribute."
   ]
  },
  {
   "cell_type": "code",
   "execution_count": 27,
   "metadata": {},
   "outputs": [],
   "source": [
    "replay_buffer = tf_uniform_replay_buffer.TFUniformReplayBuffer(\n",
    "    data_spec=agent.collect_data_spec,\n",
    "    batch_size=train_env.batch_size,\n",
    "    max_length=replay_buffer_max_length\n",
    ")"
   ]
  },
  {
   "cell_type": "markdown",
   "metadata": {},
   "source": [
    "The `collect_data_spec` of most agents is a `Trajectory`,  a named tuple containing the specs for observations, actions, rewards, and other items."
   ]
  },
  {
   "cell_type": "code",
   "execution_count": 28,
   "metadata": {},
   "outputs": [
    {
     "data": {
      "text/plain": [
       "Trajectory(step_type=TensorSpec(shape=(), dtype=tf.int32, name='step_type'), observation=BoundedTensorSpec(shape=(4,), dtype=tf.float32, name='observation', minimum=array([-4.8000002e+00, -3.4028235e+38, -4.1887903e-01, -3.4028235e+38],\n",
       "      dtype=float32), maximum=array([4.8000002e+00, 3.4028235e+38, 4.1887903e-01, 3.4028235e+38],\n",
       "      dtype=float32)), action=BoundedTensorSpec(shape=(), dtype=tf.int64, name='action', minimum=array(0), maximum=array(1)), policy_info=(), next_step_type=TensorSpec(shape=(), dtype=tf.int32, name='step_type'), reward=TensorSpec(shape=(), dtype=tf.float32, name='reward'), discount=BoundedTensorSpec(shape=(), dtype=tf.float32, name='discount', minimum=array(0., dtype=float32), maximum=array(1., dtype=float32)))"
      ]
     },
     "execution_count": 28,
     "metadata": {},
     "output_type": "execute_result"
    }
   ],
   "source": [
    "agent.collect_data_spec"
   ]
  },
  {
   "cell_type": "code",
   "execution_count": 29,
   "metadata": {},
   "outputs": [
    {
     "data": {
      "text/plain": [
       "('step_type',\n",
       " 'observation',\n",
       " 'action',\n",
       " 'policy_info',\n",
       " 'next_step_type',\n",
       " 'reward',\n",
       " 'discount')"
      ]
     },
     "execution_count": 29,
     "metadata": {},
     "output_type": "execute_result"
    }
   ],
   "source": [
    "agent.collect_data_spec._fields"
   ]
  },
  {
   "cell_type": "markdown",
   "metadata": {},
   "source": [
    "## Data collections\n",
    "\n",
    "We can collect the first data (i.e. prime the replay buffer) using the random policy."
   ]
  },
  {
   "cell_type": "code",
   "execution_count": 30,
   "metadata": {},
   "outputs": [],
   "source": [
    "def collect_step(environment, policy, buffer):\n",
    "    time_step = environment.current_time_step()\n",
    "    action_step = policy.action(time_step)\n",
    "    next_time_step = environment.step(action_step.action)\n",
    "    next_time_step = environment.step(action_step.action)\n",
    "    traj = trajectory.from_transition(time_step, action_step, next_time_step)\n",
    "    \n",
    "    buffer.add_batch(traj)\n",
    "\n",
    "def collect_data(environment, policy, buffer, steps):\n",
    "    for _ in range(steps):\n",
    "        collect_step(environment, policy, buffer)\n",
    "\n",
    "collect_data(train_env, random_policy, replay_buffer, steps=100)"
   ]
  },
  {
   "cell_type": "markdown",
   "metadata": {},
   "source": [
    "The replay buffer now has 100 Trajectory data points.\n",
    "An example is shown below."
   ]
  },
  {
   "cell_type": "code",
   "execution_count": 31,
   "metadata": {},
   "outputs": [
    {
     "data": {
      "text/plain": [
       "(Trajectory(step_type=<tf.Tensor: shape=(), dtype=int32, numpy=1>, observation=<tf.Tensor: shape=(4,), dtype=float32, numpy=array([-0.02452128,  0.42900532, -0.01399936, -0.5506024 ], dtype=float32)>, action=<tf.Tensor: shape=(), dtype=int64, numpy=1>, policy_info=(), next_step_type=<tf.Tensor: shape=(), dtype=int32, numpy=1>, reward=<tf.Tensor: shape=(), dtype=float32, numpy=1.0>, discount=<tf.Tensor: shape=(), dtype=float32, numpy=1.0>),\n",
       " BufferInfo(ids=<tf.Tensor: shape=(), dtype=int64, numpy=62>, probabilities=<tf.Tensor: shape=(), dtype=float32, numpy=0.01>))"
      ]
     },
     "execution_count": 31,
     "metadata": {},
     "output_type": "execute_result"
    }
   ],
   "source": [
    "iter(replay_buffer.as_dataset()).next()"
   ]
  },
  {
   "cell_type": "markdown",
   "metadata": {},
   "source": [
    "The agent needs access to the replay buffer which we will accomplish by turning the replay buffer into a `tf.data.DataSet`.\n",
    "Each row of the replay buffer only stores a single observation, but the DQN Agent needs both the current and next observation to compute the loss.\n",
    "Therefore, the dataset pipeline will sample two adjacent rows for each item in the batch bby setting `num_steps=2`."
   ]
  },
  {
   "cell_type": "code",
   "execution_count": 32,
   "metadata": {},
   "outputs": [
    {
     "data": {
      "text/plain": [
       "<PrefetchDataset shapes: (Trajectory(step_type=(64, 2), observation=(64, 2, 4), action=(64, 2), policy_info=(), next_step_type=(64, 2), reward=(64, 2), discount=(64, 2)), BufferInfo(ids=(64, 2), probabilities=(64,))), types: (Trajectory(step_type=tf.int32, observation=tf.float32, action=tf.int64, policy_info=(), next_step_type=tf.int32, reward=tf.float32, discount=tf.float32), BufferInfo(ids=tf.int64, probabilities=tf.float32))>"
      ]
     },
     "execution_count": 32,
     "metadata": {},
     "output_type": "execute_result"
    }
   ],
   "source": [
    "dataset = replay_buffer.as_dataset(\n",
    "    num_parallel_calls=3,\n",
    "    sample_batch_size=batch_size,\n",
    "    num_steps=2\n",
    ").prefetch(3)\n",
    "\n",
    "dataset"
   ]
  },
  {
   "cell_type": "code",
   "execution_count": 33,
   "metadata": {},
   "outputs": [
    {
     "name": "stdout",
     "output_type": "stream",
     "text": [
      "<tensorflow.python.data.ops.iterator_ops.OwnedIterator object at 0x7fb3cc427110>\n"
     ]
    }
   ],
   "source": [
    "iterator = iter(dataset)\n",
    "print(iterator)"
   ]
  },
  {
   "cell_type": "markdown",
   "metadata": {},
   "source": [
    "## Training the agent\n",
    "\n",
    "There are two main steps in the training loop:\n",
    "\n",
    "1. Data is collected from the environment.\n",
    "2. The data is used to train the agent's neural network."
   ]
  },
  {
   "cell_type": "code",
   "execution_count": 36,
   "metadata": {},
   "outputs": [
    {
     "name": "stdout",
     "output_type": "stream",
     "text": [
      "step = 200: loss = 6.226707458496094\n",
      "step = 400: loss = 4.420048236846924\n",
      "step = 600: loss = 6.033348083496094\n",
      "step = 800: loss = 9.891678810119629\n",
      "step = 1000: loss = 13.52764892578125\n",
      "step = 1000: Average Return = 79.30000305175781\n",
      "step = 1200: loss = 39.75498962402344\n",
      "step = 1400: loss = 51.85492706298828\n",
      "step = 1600: loss = 24.995471954345703\n",
      "step = 1800: loss = 91.72029113769531\n",
      "step = 2000: loss = 116.82810974121094\n",
      "step = 2000: Average Return = 39.900001525878906\n",
      "step = 2200: loss = 95.27937316894531\n",
      "step = 2400: loss = 45.41797637939453\n",
      "step = 2600: loss = 52.61254119873047\n",
      "step = 2800: loss = 184.23687744140625\n",
      "step = 3000: loss = 70.09661102294922\n",
      "step = 3000: Average Return = 95.0\n",
      "step = 3200: loss = 22.291709899902344\n",
      "step = 3400: loss = 24.119722366333008\n",
      "step = 3600: loss = 196.63670349121094\n",
      "step = 3800: loss = 135.13465881347656\n",
      "step = 4000: loss = 149.40960693359375\n",
      "step = 4000: Average Return = 155.8000030517578\n",
      "step = 4200: loss = 104.2291030883789\n",
      "step = 4400: loss = 58.16632843017578\n",
      "step = 4600: loss = 35.08427047729492\n",
      "step = 4800: loss = 148.781005859375\n",
      "step = 5000: loss = 178.188232421875\n",
      "step = 5000: Average Return = 141.5\n",
      "step = 5200: loss = 4.1824164390563965\n",
      "step = 5400: loss = 104.79653930664062\n",
      "step = 5600: loss = 169.7837371826172\n",
      "step = 5800: loss = 93.30718231201172\n",
      "step = 6000: loss = 139.17953491210938\n",
      "step = 6000: Average Return = 172.1999969482422\n",
      "step = 6200: loss = 156.8878631591797\n",
      "step = 6400: loss = 12.87661361694336\n",
      "step = 6600: loss = 148.550537109375\n",
      "step = 6800: loss = 9.345101356506348\n",
      "step = 7000: loss = 21.844932556152344\n",
      "step = 7000: Average Return = 199.3000030517578\n",
      "step = 7200: loss = 285.51800537109375\n",
      "step = 7400: loss = 182.8805694580078\n",
      "step = 7600: loss = 270.20489501953125\n",
      "step = 7800: loss = 121.1383285522461\n",
      "step = 8000: loss = 180.16026306152344\n",
      "step = 8000: Average Return = 158.39999389648438\n",
      "step = 8200: loss = 530.2022094726562\n",
      "step = 8400: loss = 494.06463623046875\n",
      "step = 8600: loss = 415.3296203613281\n",
      "step = 8800: loss = 13.501324653625488\n",
      "step = 9000: loss = 990.1959228515625\n",
      "step = 9000: Average Return = 200.0\n",
      "step = 9200: loss = 210.65476989746094\n",
      "step = 9400: loss = 300.068603515625\n",
      "step = 9600: loss = 373.7789306640625\n",
      "step = 9800: loss = 16.199684143066406\n",
      "step = 10000: loss = 89.79271697998047\n",
      "step = 10000: Average Return = 192.60000610351562\n",
      "step = 10200: loss = 267.7591552734375\n",
      "step = 10400: loss = 348.7440490722656\n",
      "step = 10600: loss = 237.92660522460938\n",
      "step = 10800: loss = 996.8191528320312\n",
      "step = 11000: loss = 299.93572998046875\n",
      "step = 11000: Average Return = 200.0\n",
      "step = 11200: loss = 466.43695068359375\n",
      "step = 11400: loss = 17.64717674255371\n",
      "step = 11600: loss = 304.7692565917969\n",
      "step = 11800: loss = 988.1924438476562\n",
      "step = 12000: loss = 735.3988037109375\n",
      "step = 12000: Average Return = 200.0\n",
      "step = 12200: loss = 36.89691925048828\n",
      "step = 12400: loss = 410.5867614746094\n",
      "step = 12600: loss = 27.391923904418945\n",
      "step = 12800: loss = 792.4786376953125\n",
      "step = 13000: loss = 25.3736629486084\n",
      "step = 13000: Average Return = 200.0\n",
      "step = 13200: loss = 19.925840377807617\n",
      "step = 13400: loss = 763.6942749023438\n",
      "step = 13600: loss = 8.960168838500977\n",
      "step = 13800: loss = 38.67860412597656\n",
      "step = 14000: loss = 743.2323608398438\n",
      "step = 14000: Average Return = 200.0\n",
      "step = 14200: loss = 26.892688751220703\n",
      "step = 14400: loss = 505.3261413574219\n",
      "step = 14600: loss = 703.1680908203125\n",
      "step = 14800: loss = 65.67111206054688\n",
      "step = 15000: loss = 47.07048034667969\n",
      "step = 15000: Average Return = 200.0\n",
      "step = 15200: loss = 2141.822021484375\n",
      "step = 15400: loss = 900.4562377929688\n",
      "step = 15600: loss = 10.30683708190918\n",
      "step = 15800: loss = 9.026422500610352\n",
      "step = 16000: loss = 419.171875\n",
      "step = 16000: Average Return = 200.0\n",
      "step = 16200: loss = 133.60073852539062\n",
      "step = 16400: loss = 13.217757225036621\n",
      "step = 16600: loss = 1062.564453125\n",
      "step = 16800: loss = 23.212535858154297\n",
      "step = 17000: loss = 1531.63720703125\n",
      "step = 17000: Average Return = 200.0\n",
      "step = 17200: loss = 1146.5694580078125\n",
      "step = 17400: loss = 16.44066619873047\n",
      "step = 17600: loss = 251.52679443359375\n",
      "step = 17800: loss = 1339.986328125\n",
      "step = 18000: loss = 5.540477752685547\n",
      "step = 18000: Average Return = 200.0\n",
      "step = 18200: loss = 7.286897659301758\n",
      "step = 18400: loss = 31.28085708618164\n",
      "step = 18600: loss = 1299.558837890625\n",
      "step = 18800: loss = 1315.02734375\n",
      "step = 19000: loss = 105.08229064941406\n",
      "step = 19000: Average Return = 200.0\n",
      "step = 19200: loss = 738.324951171875\n",
      "step = 19400: loss = 37.97500228881836\n",
      "step = 19600: loss = 2429.213623046875\n",
      "step = 19800: loss = 349.95361328125\n",
      "step = 20000: loss = 188.6269073486328\n",
      "step = 20000: Average Return = 200.0\n"
     ]
    }
   ],
   "source": [
    "# Optimize by wrapping this method as a TF function.\n",
    "agent.train = common.function(agent.train)\n",
    "\n",
    "# Reset the step counter.\n",
    "agent.train_step_counter.assign(0)\n",
    "\n",
    "# Evaluate the agent's policy before starting.\n",
    "avg_return = compute_avg_return(eval_env, agent.policy, num_eval_episodes)\n",
    "returns = [avg_return]\n",
    "\n",
    "for _ in range(num_iterations):\n",
    "    \n",
    "    # Collect a few steps using the current policy and save to the replay buffer.\n",
    "    for _ in range(collect_steps_per_iteration):\n",
    "        collect_step(train_env, agent.collect_policy, replay_buffer)\n",
    "    \n",
    "    # Sample a batch of data from the buffer and update the agent's network.\n",
    "    experience, unused_info = next(iterator)\n",
    "    train_loss = agent.train(experience).loss\n",
    "    \n",
    "    step = agent.train_step_counter.numpy()\n",
    "    \n",
    "    if step % log_interval == 0:\n",
    "        print(f'step = {step}: loss = {train_loss}')\n",
    "    \n",
    "    if step % eval_interval == 0:\n",
    "        avg_return = compute_avg_return(eval_env, agent.policy, num_eval_episodes)\n",
    "        print(f'step = {step}: Average Return = {avg_return}')\n",
    "        returns.append(avg_return)"
   ]
  },
  {
   "cell_type": "markdown",
   "metadata": {},
   "source": [
    "## Visualization"
   ]
  },
  {
   "cell_type": "code",
   "execution_count": 42,
   "metadata": {},
   "outputs": [
    {
     "data": {
      "image/png": "[encoded data removed]",
      "text/plain": [
       "<Figure size 576x360 with 1 Axes>"
      ]
     },
     "metadata": {},
     "output_type": "display_data"
    }
   ],
   "source": [
    "sns.set_style(\"whitegrid\")\n",
    "\n",
    "fig = plt.figure(figsize = (8, 5))\n",
    "plt.plot(np.linspace(0, num_iterations, len(returns)), returns, 'b-')\n",
    "plt.xlabel('training steps', fontsize=16)\n",
    "plt.ylabel('average return', fontsize=16)\n",
    "plt.title('Training a DQN on the Cart-Pole problem', fontsize=18)\n",
    "plt.axis([0, num_iterations, 0, 201])\n",
    "plt.show()"
   ]
  },
  {
   "cell_type": "markdown",
   "metadata": {},
   "source": [
    "## Save model policy"
   ]
  },
  {
   "cell_type": "code",
   "execution_count": 52,
   "metadata": {},
   "outputs": [
    {
     "name": "stdout",
     "output_type": "stream",
     "text": [
      "INFO:tensorflow:Assets written to: ../models/cart-pole_dqn-policy.tfmdl/assets\n"
     ]
    }
   ],
   "source": [
    "saver = policy_saver.PolicySaver(agent.policy, batch_size=batch_size)\n",
    "saver.save(Path(\"../models/cart-pole_dqn-policy.tfmdl\").as_posix())"
   ]
  }
 ],
 "metadata": {
  "kernelspec": {
   "display_name": "Python 3",
   "language": "python",
   "name": "python3"
  },
  "language_info": {
   "codemirror_mode": {
    "name": "ipython",
    "version": 3
   },
   "file_extension": ".py",
   "mimetype": "text/x-python",
   "name": "python",
   "nbconvert_exporter": "python",
   "pygments_lexer": "ipython3",
   "version": "3.7.4"
  }
 },
 "nbformat": 4,
 "nbformat_minor": 4
}
